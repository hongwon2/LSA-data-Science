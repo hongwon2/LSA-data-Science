{
 "cells": [
  {
   "cell_type": "code",
   "execution_count": 1,
   "id": "1020d95a",
   "metadata": {},
   "outputs": [
    {
     "data": {
      "text/plain": [
       "array([[1., 0., 0.],\n",
       "       [0., 1., 0.],\n",
       "       [0., 0., 1.]])"
      ]
     },
     "execution_count": 1,
     "metadata": {},
     "output_type": "execute_result"
    }
   ],
   "source": [
    "import numpy as np\n",
    "np.eye(3,3)"
   ]
  },
  {
   "cell_type": "code",
   "execution_count": 2,
   "id": "0987094c",
   "metadata": {},
   "outputs": [
    {
     "data": {
      "text/plain": [
       "array([[1., 0., 0.],\n",
       "       [1., 1., 0.],\n",
       "       [1., 1., 1.]])"
      ]
     },
     "execution_count": 2,
     "metadata": {},
     "output_type": "execute_result"
    }
   ],
   "source": [
    "np.tri(3)"
   ]
  },
  {
   "cell_type": "code",
   "execution_count": 3,
   "id": "2b381f58",
   "metadata": {},
   "outputs": [
    {
     "data": {
      "text/plain": [
       "array([0., 0., 0., 0., 0., 0., 0., 0., 0., 0.])"
      ]
     },
     "execution_count": 3,
     "metadata": {},
     "output_type": "execute_result"
    }
   ],
   "source": [
    "np.empty(10)"
   ]
  },
  {
   "cell_type": "code",
   "execution_count": 4,
   "id": "67b03ac6",
   "metadata": {},
   "outputs": [
    {
     "data": {
      "text/plain": [
       "array([[1., 1., 1.],\n",
       "       [1., 1., 1.],\n",
       "       [1., 1., 1.]])"
      ]
     },
     "execution_count": 4,
     "metadata": {},
     "output_type": "execute_result"
    }
   ],
   "source": [
    "np.full((3,3),1.0)"
   ]
  },
  {
   "cell_type": "code",
   "execution_count": 5,
   "id": "499f6943",
   "metadata": {},
   "outputs": [
    {
     "name": "stdout",
     "output_type": "stream",
     "text": [
      "[4 5 6 4 5]\n"
     ]
    },
    {
     "data": {
      "text/plain": [
       "array([0, 0, 0, 0, 0])"
      ]
     },
     "execution_count": 5,
     "metadata": {},
     "output_type": "execute_result"
    }
   ],
   "source": [
    "a1 = np.array([4,5,6,4,5])\n",
    "print(a1)\n",
    "np.zeros_like(a1)"
   ]
  },
  {
   "cell_type": "code",
   "execution_count": 6,
   "id": "194d151d",
   "metadata": {},
   "outputs": [
    {
     "name": "stdout",
     "output_type": "stream",
     "text": [
      "[4 5 6 4 5]\n"
     ]
    },
    {
     "data": {
      "text/plain": [
       "array([1, 1, 1, 1, 1])"
      ]
     },
     "execution_count": 6,
     "metadata": {},
     "output_type": "execute_result"
    }
   ],
   "source": [
    "print(a1)\n",
    "np.ones_like(a1)"
   ]
  },
  {
   "cell_type": "code",
   "execution_count": 7,
   "id": "b529d4fd",
   "metadata": {},
   "outputs": [
    {
     "data": {
      "text/plain": [
       "array([ 0,  2,  4,  6,  8, 10, 12, 14, 16, 18, 20, 22, 24, 26, 28])"
      ]
     },
     "execution_count": 7,
     "metadata": {},
     "output_type": "execute_result"
    }
   ],
   "source": [
    "np.arange(0,30,2)"
   ]
  },
  {
   "cell_type": "code",
   "execution_count": 8,
   "id": "208f2157",
   "metadata": {},
   "outputs": [
    {
     "data": {
      "text/plain": [
       "array([0.  , 0.25, 0.5 , 0.75, 1.  ])"
      ]
     },
     "execution_count": 8,
     "metadata": {},
     "output_type": "execute_result"
    }
   ],
   "source": [
    "np.linspace(0,1,5)"
   ]
  },
  {
   "cell_type": "code",
   "execution_count": 9,
   "id": "ce63e24d",
   "metadata": {},
   "outputs": [
    {
     "data": {
      "text/plain": [
       "array([ 1.25892541,  1.40400425,  1.565802  ,  1.74624535,  1.94748304,\n",
       "        2.1719114 ,  2.42220294,  2.70133812,  3.0126409 ,  3.35981829,\n",
       "        3.74700446,  4.17881006,  4.66037703,  5.19743987,  5.79639395,\n",
       "        6.46437163,  7.2093272 ,  8.04013161,  8.9666781 , 10.        ])"
      ]
     },
     "execution_count": 9,
     "metadata": {},
     "output_type": "execute_result"
    }
   ],
   "source": [
    "np.logspace(0.1,1,20)"
   ]
  },
  {
   "cell_type": "code",
   "execution_count": 10,
   "id": "0b3b30d2",
   "metadata": {},
   "outputs": [
    {
     "data": {
      "text/plain": [
       "array([[0.38338166, 0.18194185, 0.79565041],\n",
       "       [0.32126624, 0.43122265, 0.47643429],\n",
       "       [0.78514858, 0.73505928, 0.5686679 ]])"
      ]
     },
     "execution_count": 10,
     "metadata": {},
     "output_type": "execute_result"
    }
   ],
   "source": [
    "np.random.random((3,3))"
   ]
  },
  {
   "cell_type": "code",
   "execution_count": 12,
   "id": "12863c06",
   "metadata": {},
   "outputs": [
    {
     "data": {
      "text/plain": [
       "array([[9, 3, 8],\n",
       "       [6, 8, 9],\n",
       "       [6, 3, 8]])"
      ]
     },
     "execution_count": 12,
     "metadata": {},
     "output_type": "execute_result"
    }
   ],
   "source": [
    "np.random.randint(0,10,(3,3))"
   ]
  },
  {
   "cell_type": "code",
   "execution_count": 13,
   "id": "20c28f98",
   "metadata": {},
   "outputs": [
    {
     "data": {
      "text/plain": [
       "array([[-0.68768008, -1.53991662,  0.33109109],\n",
       "       [-1.52354571,  0.25434385,  0.76546062],\n",
       "       [ 1.50140051,  1.65434987,  1.46162067]])"
      ]
     },
     "execution_count": 13,
     "metadata": {},
     "output_type": "execute_result"
    }
   ],
   "source": [
    "np.random.normal(0,1,size = (3,3))"
   ]
  },
  {
   "cell_type": "code",
   "execution_count": 14,
   "id": "f157e0b1",
   "metadata": {},
   "outputs": [
    {
     "data": {
      "text/plain": [
       "array([[0.39948334, 0.18403235, 0.13995678],\n",
       "       [0.68047073, 0.41170221, 0.02531922],\n",
       "       [0.49954064, 0.12779423, 0.04527633]])"
      ]
     },
     "execution_count": 14,
     "metadata": {},
     "output_type": "execute_result"
    }
   ],
   "source": [
    "np.random.rand(3,3)"
   ]
  },
  {
   "cell_type": "code",
   "execution_count": 15,
   "id": "acd8745f",
   "metadata": {},
   "outputs": [
    {
     "data": {
      "text/plain": [
       "array([[ 1.59433743, -0.02868717,  1.04027071],\n",
       "       [ 0.36259524, -1.32209571,  0.96935732],\n",
       "       [-0.80167304,  0.72108438, -0.07870752]])"
      ]
     },
     "execution_count": 15,
     "metadata": {},
     "output_type": "execute_result"
    }
   ],
   "source": [
    "np.random.randn(3,3)"
   ]
  },
  {
   "cell_type": "code",
   "execution_count": 16,
   "id": "bc005777",
   "metadata": {},
   "outputs": [
    {
     "data": {
      "text/plain": [
       "array([0, 0, 0, 0, 0, 0, 0, 0, 0, 0, 0, 0, 0, 0, 0, 0, 0, 0, 0, 0])"
      ]
     },
     "execution_count": 16,
     "metadata": {},
     "output_type": "execute_result"
    }
   ],
   "source": [
    "np.zeros(20,dtype = int)"
   ]
  },
  {
   "cell_type": "code",
   "execution_count": 17,
   "id": "063f84cf",
   "metadata": {},
   "outputs": [
    {
     "data": {
      "text/plain": [
       "array([[ True,  True,  True],\n",
       "       [ True,  True,  True],\n",
       "       [ True,  True,  True]])"
      ]
     },
     "execution_count": 17,
     "metadata": {},
     "output_type": "execute_result"
    }
   ],
   "source": [
    "np.ones((3,3),dtype = bool) "
   ]
  },
  {
   "cell_type": "code",
   "execution_count": 18,
   "id": "0147a8a1",
   "metadata": {},
   "outputs": [
    {
     "data": {
      "text/plain": [
       "array([[1., 1., 1.],\n",
       "       [1., 1., 1.],\n",
       "       [1., 1., 1.]])"
      ]
     },
     "execution_count": 18,
     "metadata": {},
     "output_type": "execute_result"
    }
   ],
   "source": [
    "np.full((3,3),1.0,dtype = float)"
   ]
  },
  {
   "cell_type": "code",
   "execution_count": 19,
   "id": "c5595fab",
   "metadata": {},
   "outputs": [
    {
     "data": {
      "text/plain": [
       "array('2020-01-01', dtype='datetime64[D]')"
      ]
     },
     "execution_count": 19,
     "metadata": {},
     "output_type": "execute_result"
    }
   ],
   "source": [
    "date = np.array('2020-01-01',dtype = np.datetime64)\n",
    "date"
   ]
  },
  {
   "cell_type": "code",
   "execution_count": 20,
   "id": "569e45fa",
   "metadata": {},
   "outputs": [
    {
     "data": {
      "text/plain": [
       "array(['2020-01-01', '2020-01-02', '2020-01-03', '2020-01-04',\n",
       "       '2020-01-05', '2020-01-06', '2020-01-07', '2020-01-08',\n",
       "       '2020-01-09', '2020-01-10', '2020-01-11', '2020-01-12'],\n",
       "      dtype='datetime64[D]')"
      ]
     },
     "execution_count": 20,
     "metadata": {},
     "output_type": "execute_result"
    }
   ],
   "source": [
    "date + np.arange(12)"
   ]
  },
  {
   "cell_type": "code",
   "execution_count": 21,
   "id": "a71960c5",
   "metadata": {},
   "outputs": [
    {
     "data": {
      "text/plain": [
       "numpy.datetime64('2020-06-01T12:00:12.340000000')"
      ]
     },
     "execution_count": 21,
     "metadata": {},
     "output_type": "execute_result"
    }
   ],
   "source": [
    "datetime = np.datetime64('2020-06-01 12:00:12.34','ns')\n",
    "datetime"
   ]
  },
  {
   "cell_type": "code",
   "execution_count": 22,
   "id": "3afdaf60",
   "metadata": {},
   "outputs": [],
   "source": [
    "def array_info(array):\n",
    "    print(array)\n",
    "    print('ndim:',array.ndim)\n",
    "    print('shape:',array.shape)\n",
    "    print('dtype:',array.dtype)\n",
    "    print('size:',array.size)\n",
    "    print('itemsize:',array.itemsize)\n",
    "    print('nbytes:',array.nbytes)\n",
    "    print('strides:',array.strides)"
   ]
  },
  {
   "cell_type": "code",
   "execution_count": 23,
   "id": "3bc774d2",
   "metadata": {},
   "outputs": [
    {
     "name": "stdout",
     "output_type": "stream",
     "text": [
      "[4 5 6 4 5]\n",
      "ndim: 1\n",
      "shape: (5,)\n",
      "dtype: int32\n",
      "size: 5\n",
      "itemsize: 4\n",
      "nbytes: 20\n",
      "strides: (4,)\n"
     ]
    }
   ],
   "source": [
    "array_info(a1)"
   ]
  },
  {
   "cell_type": "code",
   "execution_count": 24,
   "id": "d3c01093",
   "metadata": {},
   "outputs": [
    {
     "name": "stdout",
     "output_type": "stream",
     "text": [
      "[4 5 6 4 5]\n",
      "4\n",
      "5\n"
     ]
    }
   ],
   "source": [
    "print(a1)\n",
    "print(a1[0])\n",
    "print(a1[-1])"
   ]
  },
  {
   "cell_type": "code",
   "execution_count": 25,
   "id": "92322a5a",
   "metadata": {},
   "outputs": [
    {
     "name": "stdout",
     "output_type": "stream",
     "text": [
      "[[1 2 3]\n",
      " [4 5 6]\n",
      " [7 8 9]]\n",
      "[[[1 2 3]\n",
      "  [4 5 6]\n",
      "  [7 8 9]]\n",
      "\n",
      " [[1 2 3]\n",
      "  [4 5 6]\n",
      "  [7 8 9]]\n",
      "\n",
      " [[1 2 3]\n",
      "  [4 5 6]\n",
      "  [7 8 9]]]\n"
     ]
    }
   ],
   "source": [
    "a2 = np.array([[1,2,3],[4,5,6],[7,8,9]])\n",
    "a3 = np.array( [[ [1,2,3],[4,5,6],[7,8,9] ],\n",
    "               [ [1,2,3],[4,5,6],[7,8,9] ],\n",
    "               [ [1,2,3],[4,5,6],[7,8,9] ]] )\n",
    "\n",
    "print(a2)\n",
    "print(a3)"
   ]
  },
  {
   "cell_type": "code",
   "execution_count": 26,
   "id": "5dd96910",
   "metadata": {},
   "outputs": [
    {
     "name": "stdout",
     "output_type": "stream",
     "text": [
      "[[[1 2 3]\n",
      "  [4 5 6]\n",
      "  [7 8 9]]\n",
      "\n",
      " [[1 2 3]\n",
      "  [4 5 6]\n",
      "  [7 8 9]]\n",
      "\n",
      " [[1 2 3]\n",
      "  [4 5 6]\n",
      "  [7 8 9]]]\n",
      "ndim: 3\n",
      "shape: (3, 3, 3)\n",
      "dtype: int32\n",
      "size: 27\n",
      "itemsize: 4\n",
      "nbytes: 108\n",
      "strides: (36, 12, 4)\n"
     ]
    }
   ],
   "source": [
    "array_info(a3)"
   ]
  },
  {
   "cell_type": "code",
   "execution_count": 27,
   "id": "4a0dee5e",
   "metadata": {},
   "outputs": [
    {
     "name": "stdout",
     "output_type": "stream",
     "text": [
      "[[1 2 3]\n",
      " [4 5 6]\n",
      " [7 8 9]]\n",
      "1\n",
      "3\n",
      "5\n",
      "9\n"
     ]
    }
   ],
   "source": [
    "print(a2)\n",
    "print(a2[0,0])\n",
    "print(a2[0,2])\n",
    "print(a2[1,1])\n",
    "print(a2[2,-1])"
   ]
  },
  {
   "cell_type": "code",
   "execution_count": 28,
   "id": "d0c58d00",
   "metadata": {},
   "outputs": [
    {
     "name": "stdout",
     "output_type": "stream",
     "text": [
      "[[[1 2 3]\n",
      "  [4 5 6]\n",
      "  [7 8 9]]\n",
      "\n",
      " [[1 2 3]\n",
      "  [4 5 6]\n",
      "  [7 8 9]]\n",
      "\n",
      " [[1 2 3]\n",
      "  [4 5 6]\n",
      "  [7 8 9]]]\n",
      "1\n",
      "5\n",
      "9\n",
      "9\n"
     ]
    }
   ],
   "source": [
    "print(a3)\n",
    "print(a3[0,0,0])\n",
    "print(a3[1,1,1])\n",
    "print(a3[2,2,2])\n",
    "print(a3[2,-1,-1])"
   ]
  },
  {
   "cell_type": "code",
   "execution_count": 29,
   "id": "37b0b5c1",
   "metadata": {},
   "outputs": [
    {
     "name": "stdout",
     "output_type": "stream",
     "text": [
      "[4 5 6 4 5]\n",
      "[4 5]\n",
      "[4 5 6 4 5]\n",
      "[4]\n",
      "[4 6 5]\n",
      "[5 4 6 5 4]\n"
     ]
    }
   ],
   "source": [
    "print(a1)\n",
    "print(a1[0:2])\n",
    "print(a1[0:])\n",
    "print(a1[:1])\n",
    "print(a1[::2])\n",
    "print(a1[::-1])"
   ]
  },
  {
   "cell_type": "code",
   "execution_count": 30,
   "id": "412c9e7d",
   "metadata": {},
   "outputs": [
    {
     "name": "stdout",
     "output_type": "stream",
     "text": [
      "a2: [[1 2 3]\n",
      " [4 5 6]\n",
      " [7 8 9]]\n",
      "a2[1]: [4 5 6]\n",
      "a2[1, :] [4 5 6]\n",
      "a2[:2,:2] [[1 2]\n",
      " [4 5]]\n",
      "a2[1:,::-1] [[6 5 4]\n",
      " [9 8 7]]\n",
      "a2[::-1,::-1] [[9 8 7]\n",
      " [6 5 4]\n",
      " [3 2 1]]\n"
     ]
    }
   ],
   "source": [
    "print('a2:',a2)\n",
    "print('a2[1]:',a2[1])\n",
    "print('a2[1, :]',a2[1, :])\n",
    "print('a2[:2,:2]',a2[:2,:2])\n",
    "print('a2[1:,::-1]',a2[1:,::-1])\n",
    "print('a2[::-1,::-1]',a2[::-1,::-1])"
   ]
  },
  {
   "cell_type": "code",
   "execution_count": 31,
   "id": "a87aacb2",
   "metadata": {},
   "outputs": [
    {
     "name": "stdout",
     "output_type": "stream",
     "text": [
      "[4 5 6 4 5]\n",
      "[5 4 5]\n"
     ]
    }
   ],
   "source": [
    "print(a1)\n",
    "bi = [False,True,False,True,True]\n",
    "print(a1[bi])"
   ]
  },
  {
   "cell_type": "code",
   "execution_count": 32,
   "id": "ae393b67",
   "metadata": {},
   "outputs": [
    {
     "name": "stdout",
     "output_type": "stream",
     "text": [
      "[[1 2 3]\n",
      " [4 5 6]\n",
      " [7 8 9]]\n",
      "[[False  True False]\n",
      " [False  True  True]\n",
      " [ True  True  True]]\n",
      "[2 5 6 7 8 9]\n"
     ]
    }
   ],
   "source": [
    "print(a2)\n",
    "bi = np.random.randint(0,2,(3,3),dtype = bool)\n",
    "print(bi)\n",
    "print(a2[bi])"
   ]
  },
  {
   "cell_type": "code",
   "execution_count": 33,
   "id": "aee874f6",
   "metadata": {},
   "outputs": [
    {
     "name": "stdout",
     "output_type": "stream",
     "text": [
      "[4 5 6 4 5]\n",
      "[4, 6]\n",
      "[4 6]\n",
      "[[4 5]\n",
      " [6 4]]\n"
     ]
    }
   ],
   "source": [
    "print(a1)\n",
    "print([a1[0],a1[2]])\n",
    "ind = [0,2]\n",
    "print(a1[ind])\n",
    "ind = np.array([[0,1],\n",
    "              [2,0]])\n",
    "print(a1[ind])"
   ]
  },
  {
   "cell_type": "code",
   "execution_count": 34,
   "id": "1fb2820e",
   "metadata": {},
   "outputs": [
    {
     "name": "stdout",
     "output_type": "stream",
     "text": [
      "[[1 2 3]\n",
      " [4 5 6]\n",
      " [7 8 9]]\n",
      "[2 9]\n",
      "[[1 2 3]\n",
      " [7 8 9]]\n",
      "[[2 3]\n",
      " [5 6]\n",
      " [8 9]]\n"
     ]
    }
   ],
   "source": [
    "print(a2)\n",
    "row = np.array([0,2])\n",
    "\n",
    "col = np.array([1,2])\n",
    "\n",
    "print(a2[row,col])\n",
    "\n",
    "print(a2[row, :])\n",
    "print(a2[:, col])\n"
   ]
  },
  {
   "cell_type": "code",
   "execution_count": 35,
   "id": "a0818adf",
   "metadata": {},
   "outputs": [
    {
     "name": "stdout",
     "output_type": "stream",
     "text": [
      "[2 8]\n",
      "[8 9]\n",
      "[[2 3]\n",
      " [8 9]]\n",
      "[[5 6]\n",
      " [8 9]]\n"
     ]
    }
   ],
   "source": [
    "print(a2[row, 1])\n",
    "print(a2[2, col])\n",
    "print(a2[row,1:])\n",
    "print(a2[1:,col])"
   ]
  },
  {
   "cell_type": "code",
   "execution_count": 36,
   "id": "b17fdd52",
   "metadata": {},
   "outputs": [
    {
     "name": "stdout",
     "output_type": "stream",
     "text": [
      "[4 5 6 4 5]\n",
      "[10  4  5  6  4  5]\n",
      "[4 5 6 4 5]\n",
      "[ 4  5 10  6  4  5]\n"
     ]
    }
   ],
   "source": [
    "print(a1)\n",
    "b1 = np.insert(a1,0,10)\n",
    "print(b1)\n",
    "print(a1)\n",
    "c1 = np.insert(a1,2,10)\n",
    "print(c1)"
   ]
  },
  {
   "cell_type": "code",
   "execution_count": 37,
   "id": "996c43d7",
   "metadata": {},
   "outputs": [
    {
     "name": "stdout",
     "output_type": "stream",
     "text": [
      "[[1 2 3]\n",
      " [4 5 6]\n",
      " [7 8 9]]\n",
      "[[ 1  2  3]\n",
      " [10 10 10]\n",
      " [ 4  5  6]\n",
      " [ 7  8  9]]\n",
      "[[ 1 10  2  3]\n",
      " [ 4 10  5  6]\n",
      " [ 7 10  8  9]]\n"
     ]
    }
   ],
   "source": [
    "print(a2)\n",
    "b2 = np.insert(a2,1,10,axis = 0)\n",
    "print(b2)\n",
    "c2 = np.insert(a2,1,10,axis = 1)\n",
    "print(c2)"
   ]
  },
  {
   "cell_type": "code",
   "execution_count": 38,
   "id": "4bb58858",
   "metadata": {},
   "outputs": [
    {
     "name": "stdout",
     "output_type": "stream",
     "text": [
      "[4 5 6 4 5]\n",
      "[1 2 3 4 5]\n",
      "[9 2 3 4 5]\n",
      "[9 0 3 0 0]\n",
      "[9 4 3 4 4]\n"
     ]
    }
   ],
   "source": [
    "print(a1)\n",
    "a1[0] = 1 \n",
    "a1[1] = 2\n",
    "a1[2] = 3\n",
    "print(a1)\n",
    "a1[:1]=9\n",
    "print(a1)\n",
    "i = np.array([1,3,4])\n",
    "a1[i] = 0\n",
    "print(a1)\n",
    "a1[i] += 4\n",
    "print(a1)"
   ]
  },
  {
   "cell_type": "code",
   "execution_count": 39,
   "id": "0639e42e",
   "metadata": {},
   "outputs": [
    {
     "name": "stdout",
     "output_type": "stream",
     "text": [
      "[[1 2 3]\n",
      " [4 5 6]\n",
      " [7 8 9]]\n",
      "[[1 1 1]\n",
      " [4 2 6]\n",
      " [7 8 3]]\n",
      "[[1 1 1]\n",
      " [4 2 9]\n",
      " [7 8 9]]\n",
      "[[1 0 1]\n",
      " [0 2 9]\n",
      " [7 8 9]]\n"
     ]
    }
   ],
   "source": [
    "print(a2)\n",
    "a2[0,0] = 1\n",
    "a2[1,1] = 2\n",
    "a2[2,2] = 3\n",
    "a2[0] = 1\n",
    "print(a2)\n",
    "a2[1:,2] = 9\n",
    "print(a2)\n",
    "row = np.array([0,1])\n",
    "col = np.array([1,0])\n",
    "a2[row,col] = 0\n",
    "print(a2)"
   ]
  },
  {
   "cell_type": "code",
   "execution_count": 40,
   "id": "954d5af0",
   "metadata": {},
   "outputs": [
    {
     "name": "stdout",
     "output_type": "stream",
     "text": [
      "[9 4 3 4 4]\n",
      "[9 3 4 4]\n"
     ]
    }
   ],
   "source": [
    "print(a1)\n",
    "b1 = np.delete(a1,1)\n",
    "print(b1)"
   ]
  },
  {
   "cell_type": "code",
   "execution_count": 41,
   "id": "10772253",
   "metadata": {},
   "outputs": [
    {
     "name": "stdout",
     "output_type": "stream",
     "text": [
      "[[1 0 1]\n",
      " [0 2 9]\n",
      " [7 8 9]]\n",
      "[[1 0 1]\n",
      " [7 8 9]]\n",
      "[[1 1]\n",
      " [0 9]\n",
      " [7 9]]\n"
     ]
    }
   ],
   "source": [
    "print(a2)\n",
    "b2 =np.delete(a2,1,axis = 0)\n",
    "print(b2)\n",
    "c2 = np.delete(a2,1,axis = 1)\n",
    "print(c2)"
   ]
  },
  {
   "cell_type": "code",
   "execution_count": 42,
   "id": "39247dbf",
   "metadata": {},
   "outputs": [
    {
     "name": "stdout",
     "output_type": "stream",
     "text": [
      "[[1 0 1]\n",
      " [0 2 9]\n",
      " [7 8 9]]\n",
      "[[1 0]\n",
      " [0 2]]\n",
      "[[1 0]\n",
      " [0 2]]\n",
      "[[1 0]\n",
      " [0 0]]\n",
      "[[1 0 1]\n",
      " [0 0 9]\n",
      " [7 8 9]]\n"
     ]
    }
   ],
   "source": [
    "print(a2)\n",
    "print(a2[:2,:2])\n",
    "a2_sub = a2[:2,:2]\n",
    "print(a2_sub)\n",
    "a2_sub[:,1] = 0\n",
    "print(a2_sub)\n",
    "print(a2)"
   ]
  },
  {
   "cell_type": "code",
   "execution_count": 43,
   "id": "4005beba",
   "metadata": {},
   "outputs": [
    {
     "name": "stdout",
     "output_type": "stream",
     "text": [
      "[[1 0 1]\n",
      " [0 0 9]\n",
      " [7 8 9]]\n",
      "[[1 0]\n",
      " [0 0]]\n",
      "[[1 1]\n",
      " [0 1]]\n",
      "[[1 0 1]\n",
      " [0 0 9]\n",
      " [7 8 9]]\n"
     ]
    }
   ],
   "source": [
    "print(a2)\n",
    "a2_sub_copy = a2[:2,:2].copy()\n",
    "print(a2_sub_copy)\n",
    "a2_sub_copy[:,1] = 1\n",
    "print(a2_sub_copy)\n",
    "print(a2)"
   ]
  },
  {
   "cell_type": "code",
   "execution_count": 44,
   "id": "ff26d273",
   "metadata": {},
   "outputs": [
    {
     "name": "stdout",
     "output_type": "stream",
     "text": [
      "[[1 0 1]\n",
      " [0 0 9]\n",
      " [7 8 9]]\n",
      "[[1 0 7]\n",
      " [0 0 8]\n",
      " [1 9 9]]\n"
     ]
    }
   ],
   "source": [
    "print(a2)\n",
    "print(a2.T)"
   ]
  },
  {
   "cell_type": "code",
   "execution_count": 45,
   "id": "369ec92a",
   "metadata": {},
   "outputs": [
    {
     "name": "stdout",
     "output_type": "stream",
     "text": [
      "[[[1 2 3]\n",
      "  [4 5 6]\n",
      "  [7 8 9]]\n",
      "\n",
      " [[1 2 3]\n",
      "  [4 5 6]\n",
      "  [7 8 9]]\n",
      "\n",
      " [[1 2 3]\n",
      "  [4 5 6]\n",
      "  [7 8 9]]]\n",
      "[[[1 1 1]\n",
      "  [4 4 4]\n",
      "  [7 7 7]]\n",
      "\n",
      " [[2 2 2]\n",
      "  [5 5 5]\n",
      "  [8 8 8]]\n",
      "\n",
      " [[3 3 3]\n",
      "  [6 6 6]\n",
      "  [9 9 9]]]\n"
     ]
    }
   ],
   "source": [
    "print(a3)\n",
    "print(a3.T)"
   ]
  },
  {
   "cell_type": "code",
   "execution_count": 46,
   "id": "bf8cdffb",
   "metadata": {},
   "outputs": [
    {
     "name": "stdout",
     "output_type": "stream",
     "text": [
      "[[1 0 1]\n",
      " [0 0 9]\n",
      " [7 8 9]]\n",
      "[[1 0 7]\n",
      " [0 0 8]\n",
      " [1 9 9]]\n"
     ]
    }
   ],
   "source": [
    "print(a2)\n",
    "print(a2.swapaxes(1,0))"
   ]
  },
  {
   "cell_type": "code",
   "execution_count": 47,
   "id": "63980760",
   "metadata": {},
   "outputs": [
    {
     "name": "stdout",
     "output_type": "stream",
     "text": [
      "[[[1 2 3]\n",
      "  [4 5 6]\n",
      "  [7 8 9]]\n",
      "\n",
      " [[1 2 3]\n",
      "  [4 5 6]\n",
      "  [7 8 9]]\n",
      "\n",
      " [[1 2 3]\n",
      "  [4 5 6]\n",
      "  [7 8 9]]]\n",
      "[[[1 2 3]\n",
      "  [1 2 3]\n",
      "  [1 2 3]]\n",
      "\n",
      " [[4 5 6]\n",
      "  [4 5 6]\n",
      "  [4 5 6]]\n",
      "\n",
      " [[7 8 9]\n",
      "  [7 8 9]\n",
      "  [7 8 9]]]\n",
      "[[[1 4 7]\n",
      "  [2 5 8]\n",
      "  [3 6 9]]\n",
      "\n",
      " [[1 4 7]\n",
      "  [2 5 8]\n",
      "  [3 6 9]]\n",
      "\n",
      " [[1 4 7]\n",
      "  [2 5 8]\n",
      "  [3 6 9]]]\n"
     ]
    }
   ],
   "source": [
    "print(a3)\n",
    "print(a3.swapaxes(0,1))\n",
    "print(a3.swapaxes(1,2))"
   ]
  },
  {
   "cell_type": "code",
   "execution_count": 48,
   "id": "8878ef76",
   "metadata": {},
   "outputs": [
    {
     "name": "stdout",
     "output_type": "stream",
     "text": [
      "[1 2 3 4 5 6 7 8 9]\n",
      "[[1 2 3]\n",
      " [4 5 6]\n",
      " [7 8 9]]\n"
     ]
    }
   ],
   "source": [
    "n1 = np.arange(1,10)\n",
    "print(n1)\n",
    "print(n1.reshape(3,3))"
   ]
  },
  {
   "cell_type": "code",
   "execution_count": 49,
   "id": "bc497840",
   "metadata": {},
   "outputs": [
    {
     "name": "stdout",
     "output_type": "stream",
     "text": [
      "[1 2 3 4 5 6 7 8 9]\n",
      "[[1 2 3 4 5]]\n",
      "[[1 2 3 4 5 6 7 8 9]]\n"
     ]
    }
   ],
   "source": [
    "print(n1)\n",
    "print(n1[np.newaxis, :5])\n",
    "print(n1[np.newaxis])"
   ]
  },
  {
   "cell_type": "code",
   "execution_count": 50,
   "id": "5c769314",
   "metadata": {},
   "outputs": [
    {
     "name": "stdout",
     "output_type": "stream",
     "text": [
      "[[8 9 4 4 9]\n",
      " [8 0 6 0 7]]\n",
      "[[8 9]\n",
      " [4 4]\n",
      " [9 8]\n",
      " [0 6]\n",
      " [0 7]]\n"
     ]
    }
   ],
   "source": [
    "n2 = np.random.randint(0,10,(2,5))\n",
    "print(n2)\n",
    "n2.resize((5,2))\n",
    "print(n2)"
   ]
  },
  {
   "cell_type": "code",
   "execution_count": 51,
   "id": "3bfdb616",
   "metadata": {},
   "outputs": [
    {
     "name": "stdout",
     "output_type": "stream",
     "text": [
      "[[8 9 4 4 9]\n",
      " [8 0 6 0 7]\n",
      " [0 0 0 0 0]\n",
      " [0 0 0 0 0]\n",
      " [0 0 0 0 0]]\n"
     ]
    }
   ],
   "source": [
    "n2.resize((5,5))\n",
    "print(n2)"
   ]
  },
  {
   "cell_type": "code",
   "execution_count": 52,
   "id": "2e343d5a",
   "metadata": {},
   "outputs": [
    {
     "name": "stdout",
     "output_type": "stream",
     "text": [
      "[[8 9 4]\n",
      " [4 9 8]\n",
      " [0 6 0]]\n"
     ]
    }
   ],
   "source": [
    "n2.resize((3,3))\n",
    "print(n2)"
   ]
  },
  {
   "cell_type": "code",
   "execution_count": 53,
   "id": "10498ad9",
   "metadata": {},
   "outputs": [
    {
     "name": "stdout",
     "output_type": "stream",
     "text": [
      "[[1 2 3]\n",
      " [4 5 6]\n",
      " [7 8 9]]\n",
      "[[10 11 12]\n",
      " [13 14 15]\n",
      " [16 17 18]]\n"
     ]
    }
   ],
   "source": [
    "a2 = np.arange(1,10).reshape(3,3)\n",
    "print(a2)\n",
    "b2 = np.arange(10,19).reshape(3,3)\n",
    "print(b2)"
   ]
  },
  {
   "cell_type": "code",
   "execution_count": 54,
   "id": "f3ed2ecc",
   "metadata": {},
   "outputs": [
    {
     "name": "stdout",
     "output_type": "stream",
     "text": [
      "[ 1  2  3  4  5  6  7  8  9 10 11 12 13 14 15 16 17 18]\n"
     ]
    }
   ],
   "source": [
    "c2 = np.append(a2,b2)\n",
    "print(c2)"
   ]
  },
  {
   "cell_type": "code",
   "execution_count": 55,
   "id": "8ec87a8d",
   "metadata": {},
   "outputs": [
    {
     "name": "stdout",
     "output_type": "stream",
     "text": [
      "[[ 1  2  3]\n",
      " [ 4  5  6]\n",
      " [ 7  8  9]\n",
      " [10 11 12]\n",
      " [13 14 15]\n",
      " [16 17 18]]\n"
     ]
    }
   ],
   "source": [
    "c2 = np.append(a2,b2,axis = 0)\n",
    "print(c2)"
   ]
  },
  {
   "cell_type": "code",
   "execution_count": 56,
   "id": "57978550",
   "metadata": {},
   "outputs": [
    {
     "name": "stdout",
     "output_type": "stream",
     "text": [
      "[[ 1  2  3 10 11 12]\n",
      " [ 4  5  6 13 14 15]\n",
      " [ 7  8  9 16 17 18]]\n"
     ]
    }
   ],
   "source": [
    "c2 = np.append(a2,b2,axis = 1)\n",
    "print(c2)"
   ]
  },
  {
   "cell_type": "code",
   "execution_count": 57,
   "id": "4f75a716",
   "metadata": {},
   "outputs": [
    {
     "data": {
      "text/plain": [
       "array([1, 3, 5, 2, 4, 6])"
      ]
     },
     "execution_count": 57,
     "metadata": {},
     "output_type": "execute_result"
    }
   ],
   "source": [
    "a1 = np.array([1,3,5])\n",
    "b1 = np.array([2,4,6])\n",
    "np.concatenate([a1,b1])"
   ]
  },
  {
   "cell_type": "code",
   "execution_count": 58,
   "id": "343de8ea",
   "metadata": {},
   "outputs": [
    {
     "data": {
      "text/plain": [
       "array([1, 3, 5, 2, 4, 6, 7, 8, 9])"
      ]
     },
     "execution_count": 58,
     "metadata": {},
     "output_type": "execute_result"
    }
   ],
   "source": [
    "c1=np.array([7,8,9])\n",
    "np.concatenate([a1,b1,c1])"
   ]
  },
  {
   "cell_type": "code",
   "execution_count": 59,
   "id": "1fce27b7",
   "metadata": {},
   "outputs": [
    {
     "data": {
      "text/plain": [
       "array([[1, 2, 3],\n",
       "       [4, 5, 6],\n",
       "       [1, 2, 3],\n",
       "       [4, 5, 6]])"
      ]
     },
     "execution_count": 59,
     "metadata": {},
     "output_type": "execute_result"
    }
   ],
   "source": [
    "a2 = np.array([[1,2,3],\n",
    "               [4,5,6]])\n",
    "np.concatenate([a2,a2])"
   ]
  },
  {
   "cell_type": "code",
   "execution_count": 60,
   "id": "532c5af0",
   "metadata": {},
   "outputs": [
    {
     "data": {
      "text/plain": [
       "array([[1, 2, 3, 1, 2, 3],\n",
       "       [4, 5, 6, 4, 5, 6]])"
      ]
     },
     "execution_count": 60,
     "metadata": {},
     "output_type": "execute_result"
    }
   ],
   "source": [
    "a2 = np.array([[1,2,3],\n",
    "               [4,5,6]])\n",
    "np.concatenate([a2,a2],axis = 1)"
   ]
  },
  {
   "cell_type": "code",
   "execution_count": 61,
   "id": "e352e917",
   "metadata": {},
   "outputs": [
    {
     "data": {
      "text/plain": [
       "array([[1, 2, 3],\n",
       "       [4, 5, 6],\n",
       "       [1, 2, 3],\n",
       "       [4, 5, 6]])"
      ]
     },
     "execution_count": 61,
     "metadata": {},
     "output_type": "execute_result"
    }
   ],
   "source": [
    "np.vstack([a2,a2])"
   ]
  },
  {
   "cell_type": "code",
   "execution_count": 62,
   "id": "1fc52363",
   "metadata": {},
   "outputs": [
    {
     "data": {
      "text/plain": [
       "array([[1, 2, 3, 1, 2, 3],\n",
       "       [4, 5, 6, 4, 5, 6]])"
      ]
     },
     "execution_count": 62,
     "metadata": {},
     "output_type": "execute_result"
    }
   ],
   "source": [
    "np.hstack([a2,a2])"
   ]
  },
  {
   "cell_type": "code",
   "execution_count": 63,
   "id": "04204020",
   "metadata": {},
   "outputs": [
    {
     "data": {
      "text/plain": [
       "array([[[1, 1],\n",
       "        [2, 2],\n",
       "        [3, 3]],\n",
       "\n",
       "       [[4, 4],\n",
       "        [5, 5],\n",
       "        [6, 6]]])"
      ]
     },
     "execution_count": 63,
     "metadata": {},
     "output_type": "execute_result"
    }
   ],
   "source": [
    "np.dstack([a2,a2])"
   ]
  },
  {
   "cell_type": "code",
   "execution_count": 64,
   "id": "2342285a",
   "metadata": {},
   "outputs": [
    {
     "data": {
      "text/plain": [
       "array([[[1, 2, 3],\n",
       "        [4, 5, 6]],\n",
       "\n",
       "       [[1, 2, 3],\n",
       "        [4, 5, 6]]])"
      ]
     },
     "execution_count": 64,
     "metadata": {},
     "output_type": "execute_result"
    }
   ],
   "source": [
    "np.stack([a2,a2])"
   ]
  },
  {
   "cell_type": "code",
   "execution_count": 65,
   "id": "61083428",
   "metadata": {},
   "outputs": [
    {
     "name": "stdout",
     "output_type": "stream",
     "text": [
      "[0 1 2 3 4 5 6 7 8 9]\n",
      "[0 1 2 3 4] [5 6 7 8 9]\n",
      "[0 1] [2 3] [4 5] [6 7] [8 9]\n"
     ]
    }
   ],
   "source": [
    "a1 = np.arange(0,10)\n",
    "print(a1)\n",
    "b1, c1 = np.split(a1,[5])\n",
    "print(b1,c1)\n",
    "b1,c1,d1,e1,f1 = np.split(a1,[2,4,6,8])\n",
    "print(b1,c1,d1,e1,f1)"
   ]
  },
  {
   "cell_type": "code",
   "execution_count": 66,
   "id": "cc11c6bc",
   "metadata": {},
   "outputs": [
    {
     "name": "stdout",
     "output_type": "stream",
     "text": [
      "[[1 2 3]\n",
      " [4 5 6]\n",
      " [7 8 9]]\n",
      "[[1 2 3]\n",
      " [4 5 6]]\n",
      "[[7 8 9]]\n"
     ]
    }
   ],
   "source": [
    "a2 = np.arange(1,10).reshape(3,3)\n",
    "print(a2)\n",
    "b2 , c2 = np.vsplit(a2,[2])\n",
    "print(b2)\n",
    "print(c2)"
   ]
  },
  {
   "cell_type": "code",
   "execution_count": 67,
   "id": "aee9d052",
   "metadata": {},
   "outputs": [
    {
     "name": "stdout",
     "output_type": "stream",
     "text": [
      "[[1 2 3]\n",
      " [4 5 6]\n",
      " [7 8 9]]\n",
      "[[1 2]\n",
      " [4 5]\n",
      " [7 8]]\n",
      "[[3]\n",
      " [6]\n",
      " [9]]\n"
     ]
    }
   ],
   "source": [
    "a2 = np.arange(1,10).reshape(3,3)\n",
    "print(a2)\n",
    "b2 , c2 = np.hsplit(a2,[2])\n",
    "print(b2)\n",
    "print(c2)"
   ]
  },
  {
   "cell_type": "code",
   "execution_count": 68,
   "id": "57051239",
   "metadata": {},
   "outputs": [
    {
     "name": "stdout",
     "output_type": "stream",
     "text": [
      "[[[ 1  2  3]\n",
      "  [ 4  5  6]\n",
      "  [ 7  8  9]]\n",
      "\n",
      " [[10 11 12]\n",
      "  [13 14 15]\n",
      "  [16 17 18]]\n",
      "\n",
      " [[19 20 21]\n",
      "  [22 23 24]\n",
      "  [25 26 27]]]\n",
      "[[[ 1  2]\n",
      "  [ 4  5]\n",
      "  [ 7  8]]\n",
      "\n",
      " [[10 11]\n",
      "  [13 14]\n",
      "  [16 17]]\n",
      "\n",
      " [[19 20]\n",
      "  [22 23]\n",
      "  [25 26]]]\n",
      "[[[ 3]\n",
      "  [ 6]\n",
      "  [ 9]]\n",
      "\n",
      " [[12]\n",
      "  [15]\n",
      "  [18]]\n",
      "\n",
      " [[21]\n",
      "  [24]\n",
      "  [27]]]\n"
     ]
    }
   ],
   "source": [
    "a3 = np.arange(1,28).reshape(3,3,3)\n",
    "print(a3)\n",
    "b3 , c3 = np.dsplit(a3,[2])\n",
    "print(b3)\n",
    "print(c3)"
   ]
  },
  {
   "cell_type": "code",
   "execution_count": 69,
   "id": "cd892495",
   "metadata": {},
   "outputs": [
    {
     "name": "stdout",
     "output_type": "stream",
     "text": [
      "[1 2 3]\n",
      "[6 7 8]\n",
      "[[1 2 3]\n",
      " [4 5 6]\n",
      " [7 8 9]]\n",
      "[[ 2  4  6]\n",
      " [ 5  7  9]\n",
      " [ 8 10 12]]\n",
      "[[1]\n",
      " [2]\n",
      " [3]]\n",
      "[[2 3 4]\n",
      " [3 4 5]\n",
      " [4 5 6]]\n"
     ]
    }
   ],
   "source": [
    "a1 = np.array([1,2,3])\n",
    "print(a1)\n",
    "print(a1+5)\n",
    "\n",
    "a2 = np.arange(1,10).reshape(3,3)\n",
    "print(a2)\n",
    "print(a1 + a2)\n",
    "b2 =np.array([1,2,3]).reshape(3,1)\n",
    "print(b2)\n",
    "print(a1 + b2)"
   ]
  },
  {
   "cell_type": "code",
   "execution_count": 70,
   "id": "e6aff453",
   "metadata": {},
   "outputs": [
    {
     "name": "stdout",
     "output_type": "stream",
     "text": [
      "[1 2 3 4 5 6 7 8 9]\n",
      "[ 2  3  4  5  6  7  8  9 10]\n",
      "[11 12 13 14 15 16 17 18 19]\n",
      "[-19 -18 -17 -16 -15 -14 -13 -12 -11]\n",
      "[-9 -8 -7 -6 -5 -4 -3 -2 -1]\n",
      "[-1 -2 -3 -4 -5 -6 -7 -8 -9]\n",
      "[-1 -2 -3 -4 -5 -6 -7 -8 -9]\n",
      "[ 2  4  6  8 10 12 14 16 18]\n",
      "[ 2  4  6  8 10 12 14 16 18]\n",
      "[0.5 1.  1.5 2.  2.5 3.  3.5 4.  4.5]\n",
      "[0.5 1.  1.5 2.  2.5 3.  3.5 4.  4.5]\n",
      "[0 1 1 2 2 3 3 4 4]\n",
      "[0 1 1 2 2 3 3 4 4]\n",
      "[ 1  4  9 16 25 36 49 64 81]\n",
      "[ 1  4  9 16 25 36 49 64 81]\n",
      "[1 0 1 0 1 0 1 0 1]\n",
      "[1 0 1 0 1 0 1 0 1]\n"
     ]
    }
   ],
   "source": [
    "a1 = np.arange(1,10)\n",
    "print(a1)\n",
    "print(a1 + 1)\n",
    "print(np.add(a1,10))\n",
    "print(a1 - 20)\n",
    "print(np.subtract(a1,10))\n",
    "print(-a1)\n",
    "print(np.negative(a1))\n",
    "print((a1*2))\n",
    "print(np.multiply(a1,2))\n",
    "print((a1/2))\n",
    "print(np.divide(a1,2))\n",
    "print(a1//2)\n",
    "print(np.floor_divide(a1,2))\n",
    "print(a1**2)\n",
    "print(np.power(a1,2))\n",
    "print(a1%2)\n",
    "print(np.mod(a1,2))"
   ]
  },
  {
   "cell_type": "code",
   "execution_count": 71,
   "id": "c9ddb6ff",
   "metadata": {},
   "outputs": [
    {
     "name": "stdout",
     "output_type": "stream",
     "text": [
      "[1 2 3 4 5 6 7 8 9]\n",
      "[ 5 11  7 10 12 11 12 16 14]\n",
      "[-3 -7 -1 -2 -2  1  2  0  4]\n",
      "[ 4 18 12 24 35 30 35 64 45]\n",
      "[0.25       0.22222222 0.75       0.66666667 0.71428571 1.2\n",
      " 1.4        1.         1.8       ]\n",
      "[0 0 0 0 0 1 1 1 1]\n",
      "[       1      512       81     4096    78125     7776    16807 16777216\n",
      "    59049]\n",
      "[1 2 3 4 5 1 2 0 4]\n"
     ]
    }
   ],
   "source": [
    "a1 = np.arange(1,10)\n",
    "print(a1)\n",
    "b1 = np.random.randint(1,10,size = 9)\n",
    "print(a1 + b1)\n",
    "print(a1 - b1)\n",
    "print(a1 * b1)\n",
    "print(a1 / b1)\n",
    "print(a1 // b1)\n",
    "print(a1 ** b1)\n",
    "print(a1 % b1)"
   ]
  },
  {
   "cell_type": "code",
   "execution_count": 72,
   "id": "f6db5002",
   "metadata": {},
   "outputs": [
    {
     "name": "stdout",
     "output_type": "stream",
     "text": [
      "[[1 2 3]\n",
      " [4 5 6]\n",
      " [7 8 9]]\n",
      "[[3 1 5]\n",
      " [3 2 9]\n",
      " [5 7 8]]\n",
      "[[ 4  3  8]\n",
      " [ 7  7 15]\n",
      " [12 15 17]]\n",
      "[[-2  1 -2]\n",
      " [ 1  3 -3]\n",
      " [ 2  1  1]]\n",
      "[[ 3  2 15]\n",
      " [12 10 54]\n",
      " [35 56 72]]\n",
      "[[0.33333333 2.         0.6       ]\n",
      " [1.33333333 2.5        0.66666667]\n",
      " [1.4        1.14285714 1.125     ]]\n",
      "[[0 2 0]\n",
      " [1 2 0]\n",
      " [1 1 1]]\n",
      "[[       1        2      243]\n",
      " [      64       25 10077696]\n",
      " [   16807  2097152 43046721]]\n",
      "[[1 0 3]\n",
      " [1 1 6]\n",
      " [2 1 1]]\n"
     ]
    }
   ],
   "source": [
    "a2 = np.arange(1,10).reshape(3,3)\n",
    "print(a2)\n",
    "b2 = np.random.randint(1,10,(3,3))\n",
    "print(b2)\n",
    "print(a2 + b2)\n",
    "print(a2 - b2)\n",
    "print(a2 * b2)\n",
    "print(a2 / b2)\n",
    "print(a2 // b2)\n",
    "print(a2 ** b2)\n",
    "print(a2 % b2)"
   ]
  },
  {
   "cell_type": "code",
   "execution_count": 73,
   "id": "74bebe37",
   "metadata": {},
   "outputs": [
    {
     "name": "stdout",
     "output_type": "stream",
     "text": [
      "[ 8 -1  3  9  8]\n",
      "[8 1 3 9 8]\n",
      "[8 1 3 9 8]\n"
     ]
    }
   ],
   "source": [
    "a1 = np.random.randint(-10,10,size = 5)\n",
    "print(a1)\n",
    "print(np.absolute(a1))\n",
    "print(np.abs(a1))"
   ]
  },
  {
   "cell_type": "code",
   "execution_count": 74,
   "id": "769b3e4e",
   "metadata": {},
   "outputs": [
    {
     "name": "stdout",
     "output_type": "stream",
     "text": [
      "[ 8 -1  3  9  8]\n",
      "[64  1  9 81 64]\n",
      "[2.82842712        nan 1.73205081 3.         2.82842712]\n"
     ]
    },
    {
     "name": "stderr",
     "output_type": "stream",
     "text": [
      "C:\\Users\\hongwon\\AppData\\Local\\Temp/ipykernel_26252/2033102379.py:3: RuntimeWarning: invalid value encountered in sqrt\n",
      "  print(np.sqrt(a1))\n"
     ]
    }
   ],
   "source": [
    "print(a1)\n",
    "print(np.square(a1))\n",
    "print(np.sqrt(a1))"
   ]
  },
  {
   "cell_type": "code",
   "execution_count": 75,
   "id": "f0126409",
   "metadata": {},
   "outputs": [
    {
     "name": "stdout",
     "output_type": "stream",
     "text": [
      "[8 3 6 2 6]\n",
      "[2980.95798704   20.08553692  403.42879349    7.3890561   403.42879349]\n",
      "[256.   8.  64.   4.  64.]\n",
      "[64  9 36  4 36]\n"
     ]
    }
   ],
   "source": [
    "a1 = np.random.randint(1,10,size = 5)\n",
    "print(a1)\n",
    "print(np.exp(a1))\n",
    "print(np.exp2(a1))\n",
    "print(np.power(a1,2))"
   ]
  },
  {
   "cell_type": "code",
   "execution_count": 76,
   "id": "76ff4a0e",
   "metadata": {},
   "outputs": [
    {
     "name": "stdout",
     "output_type": "stream",
     "text": [
      "[8 3 6 2 6]\n",
      "[2.07944154 1.09861229 1.79175947 0.69314718 1.79175947]\n",
      "[3.        1.5849625 2.5849625 1.        2.5849625]\n",
      "[0.90308999 0.47712125 0.77815125 0.30103    0.77815125]\n"
     ]
    }
   ],
   "source": [
    "print(a1)\n",
    "print(np.log(a1))\n",
    "print(np.log2(a1))\n",
    "print(np.log10(a1))\n"
   ]
  },
  {
   "cell_type": "code",
   "execution_count": 77,
   "id": "ea2c6097",
   "metadata": {},
   "outputs": [
    {
     "name": "stdout",
     "output_type": "stream",
     "text": [
      "[0.         1.57079633 3.14159265]\n",
      "[0.0000000e+00 1.0000000e+00 1.2246468e-16]\n",
      "[ 1.000000e+00  6.123234e-17 -1.000000e+00]\n",
      "[ 0.00000000e+00  1.63312394e+16 -1.22464680e-16]\n"
     ]
    }
   ],
   "source": [
    "t = np.linspace(0,np.pi,3)\n",
    "print(t)\n",
    "print(np.sin(t))\n",
    "print(np.cos(t))\n",
    "print(np.tan(t))"
   ]
  },
  {
   "cell_type": "code",
   "execution_count": 78,
   "id": "a54e13d9",
   "metadata": {},
   "outputs": [
    {
     "name": "stdout",
     "output_type": "stream",
     "text": [
      "[-1, 0, 1]\n",
      "[-1.57079633  0.          1.57079633]\n",
      "[3.14159265 1.57079633 0.        ]\n",
      "[-0.78539816  0.          0.78539816]\n"
     ]
    }
   ],
   "source": [
    "x = [-1,0,1]\n",
    "print(x)\n",
    "print(np.arcsin(x))\n",
    "print(np.arccos(x))\n",
    "print(np.arctan(x))\n"
   ]
  },
  {
   "cell_type": "code",
   "execution_count": 79,
   "id": "0610b55d",
   "metadata": {},
   "outputs": [
    {
     "name": "stdout",
     "output_type": "stream",
     "text": [
      "[[2 9 9]\n",
      " [5 8 1]\n",
      " [6 2 9]]\n",
      "51\n",
      "[13 19 19]\n",
      "[20 14 17]\n"
     ]
    }
   ],
   "source": [
    "a2 = np.random.randint(1,10,(3,3))\n",
    "print(a2)\n",
    "print(np.sum(a2))\n",
    "print(np.sum(a2,axis = 0))\n",
    "print(np.sum(a2,axis = 1))"
   ]
  },
  {
   "cell_type": "code",
   "execution_count": 80,
   "id": "85e1075a",
   "metadata": {},
   "outputs": [
    {
     "name": "stdout",
     "output_type": "stream",
     "text": [
      "[[2 9 9]\n",
      " [5 8 1]\n",
      " [6 2 9]]\n",
      "[ 2 11 20 25 33 34 40 42 51]\n",
      "[[ 2  9  9]\n",
      " [ 7 17 10]\n",
      " [13 19 19]]\n",
      "[[ 2 11 20]\n",
      " [ 5 13 14]\n",
      " [ 6  8 17]]\n"
     ]
    }
   ],
   "source": [
    "print(a2)\n",
    "print(np.cumsum(a2))\n",
    "print(np.cumsum(a2,axis = 0))\n",
    "print(np.cumsum(a2,axis = 1))"
   ]
  },
  {
   "cell_type": "code",
   "execution_count": 81,
   "id": "9c277de0",
   "metadata": {},
   "outputs": [
    {
     "name": "stdout",
     "output_type": "stream",
     "text": [
      "[[2 9 9]\n",
      " [5 8 1]\n",
      " [6 2 9]]\n",
      "[[ 7  0]\n",
      " [ 3 -7]\n",
      " [-4  7]]\n",
      "[[ 3 -1 -8]\n",
      " [ 1 -6  8]]\n",
      "[[ 7  0]\n",
      " [ 3 -7]\n",
      " [-4  7]]\n"
     ]
    }
   ],
   "source": [
    "print(a2)\n",
    "print(np.diff(a2))\n",
    "print(np.diff(a2,axis = 0))\n",
    "print(np.diff(a2,axis = 1))"
   ]
  },
  {
   "cell_type": "code",
   "execution_count": 82,
   "id": "d0b515d4",
   "metadata": {},
   "outputs": [
    {
     "name": "stdout",
     "output_type": "stream",
     "text": [
      "[[2 9 9]\n",
      " [5 8 1]\n",
      " [6 2 9]]\n",
      "699840\n",
      "[ 60 144  81]\n",
      "[162  40 108]\n"
     ]
    }
   ],
   "source": [
    "print(a2)\n",
    "print(np.prod(a2))\n",
    "print(np.prod(a2,axis = 0))\n",
    "print(np.prod(a2,axis = 1))"
   ]
  },
  {
   "cell_type": "code",
   "execution_count": 83,
   "id": "7d74f9d7",
   "metadata": {},
   "outputs": [
    {
     "name": "stdout",
     "output_type": "stream",
     "text": [
      "[[2 9 9]\n",
      " [5 8 1]\n",
      " [6 2 9]]\n",
      "[     2     18    162    810   6480   6480  38880  77760 699840]\n",
      "[[  2   9   9]\n",
      " [ 10  72   9]\n",
      " [ 60 144  81]]\n",
      "[[  2  18 162]\n",
      " [  5  40  40]\n",
      " [  6  12 108]]\n"
     ]
    }
   ],
   "source": [
    "print(a2)\n",
    "print(np.cumprod(a2))\n",
    "print(np.cumprod(a2,axis = 0))\n",
    "print(np.cumprod(a2,axis = 1))"
   ]
  },
  {
   "cell_type": "code",
   "execution_count": 84,
   "id": "72fa76b7",
   "metadata": {},
   "outputs": [
    {
     "name": "stdout",
     "output_type": "stream",
     "text": [
      "[[2 9 9]\n",
      " [5 8 1]\n",
      " [6 2 9]]\n",
      "[[1 1 1]\n",
      " [1 1 1]\n",
      " [1 1 1]]\n",
      "[[20 20 20]\n",
      " [14 14 14]\n",
      " [17 17 17]]\n",
      "[[20 20 20]\n",
      " [14 14 14]\n",
      " [17 17 17]]\n"
     ]
    }
   ],
   "source": [
    "print(a2)\n",
    "b2 = np.ones_like(a2)\n",
    "print(b2)\n",
    "print(np.dot(a2,b2))\n",
    "print(np.matmul(a2,b2))"
   ]
  },
  {
   "cell_type": "code",
   "execution_count": 85,
   "id": "704b3bdb",
   "metadata": {},
   "outputs": [
    {
     "name": "stdout",
     "output_type": "stream",
     "text": [
      "[[2 9 9]\n",
      " [5 8 1]\n",
      " [6 2 9]]\n",
      "[[1 1 1]\n",
      " [1 1 1]\n",
      " [1 1 1]]\n",
      "51\n",
      "[[[[2 2 2]\n",
      "   [2 2 2]\n",
      "   [2 2 2]]\n",
      "\n",
      "  [[9 9 9]\n",
      "   [9 9 9]\n",
      "   [9 9 9]]\n",
      "\n",
      "  [[9 9 9]\n",
      "   [9 9 9]\n",
      "   [9 9 9]]]\n",
      "\n",
      "\n",
      " [[[5 5 5]\n",
      "   [5 5 5]\n",
      "   [5 5 5]]\n",
      "\n",
      "  [[8 8 8]\n",
      "   [8 8 8]\n",
      "   [8 8 8]]\n",
      "\n",
      "  [[1 1 1]\n",
      "   [1 1 1]\n",
      "   [1 1 1]]]\n",
      "\n",
      "\n",
      " [[[6 6 6]\n",
      "   [6 6 6]\n",
      "   [6 6 6]]\n",
      "\n",
      "  [[2 2 2]\n",
      "   [2 2 2]\n",
      "   [2 2 2]]\n",
      "\n",
      "  [[9 9 9]\n",
      "   [9 9 9]\n",
      "   [9 9 9]]]]\n",
      "[[20 20 20]\n",
      " [14 14 14]\n",
      " [17 17 17]]\n"
     ]
    }
   ],
   "source": [
    "print(a2)\n",
    "print(b2)\n",
    "print(np.tensordot(a2,b2))\n",
    "print(np.tensordot(a2,b2,axes = 0))\n",
    "print(np.tensordot(a2,b2,axes = 1))"
   ]
  },
  {
   "cell_type": "code",
   "execution_count": 86,
   "id": "1883e0e6",
   "metadata": {},
   "outputs": [
    {
     "name": "stdout",
     "output_type": "stream",
     "text": [
      "[-3  6 -3]\n"
     ]
    }
   ],
   "source": [
    "x = [1,2,3]\n",
    "y = [4,5,6]\n",
    "print(np.cross(x,y))"
   ]
  },
  {
   "cell_type": "code",
   "execution_count": 87,
   "id": "58db3174",
   "metadata": {},
   "outputs": [
    {
     "name": "stdout",
     "output_type": "stream",
     "text": [
      "[[2 9 9]\n",
      " [5 8 1]\n",
      " [6 2 9]]\n",
      "[[1 1 1]\n",
      " [1 1 1]\n",
      " [1 1 1]]\n",
      "[[20 20 20]\n",
      " [14 14 14]\n",
      " [17 17 17]]\n",
      "[[2 2 2 2 2 2 2 2 2]\n",
      " [9 9 9 9 9 9 9 9 9]\n",
      " [9 9 9 9 9 9 9 9 9]\n",
      " [5 5 5 5 5 5 5 5 5]\n",
      " [8 8 8 8 8 8 8 8 8]\n",
      " [1 1 1 1 1 1 1 1 1]\n",
      " [6 6 6 6 6 6 6 6 6]\n",
      " [2 2 2 2 2 2 2 2 2]\n",
      " [9 9 9 9 9 9 9 9 9]]\n"
     ]
    }
   ],
   "source": [
    "print(a2)\n",
    "print(b2)\n",
    "print(np.inner(a2,b2))\n",
    "print(np.outer(a2,b2))"
   ]
  },
  {
   "cell_type": "code",
   "execution_count": 88,
   "id": "7023974f",
   "metadata": {},
   "outputs": [
    {
     "name": "stdout",
     "output_type": "stream",
     "text": [
      "[[2 9 9]\n",
      " [5 8 1]\n",
      " [6 2 9]]\n",
      "5.666666666666667\n",
      "[4.33333333 6.33333333 6.33333333]\n",
      "[6.66666667 4.66666667 5.66666667]\n"
     ]
    }
   ],
   "source": [
    "print(a2)\n",
    "print(np.mean(a2))\n",
    "print(np.mean(a2,axis = 0))\n",
    "print(np.mean(a2,axis = 1))"
   ]
  },
  {
   "cell_type": "code",
   "execution_count": 89,
   "id": "5443a242",
   "metadata": {},
   "outputs": [
    {
     "name": "stdout",
     "output_type": "stream",
     "text": [
      "[[2 9 9]\n",
      " [5 8 1]\n",
      " [6 2 9]]\n",
      "3.1269438398822866\n",
      "[1.69967317 3.09120617 3.77123617]\n",
      "[3.29983165 2.86744176 2.86744176]\n"
     ]
    }
   ],
   "source": [
    "print(a2)\n",
    "print(np.std(a2))\n",
    "print(np.std(a2,axis = 0))\n",
    "print(np.std(a2,axis = 1))"
   ]
  },
  {
   "cell_type": "code",
   "execution_count": 90,
   "id": "c74991be",
   "metadata": {},
   "outputs": [
    {
     "name": "stdout",
     "output_type": "stream",
     "text": [
      "[[2 9 9]\n",
      " [5 8 1]\n",
      " [6 2 9]]\n",
      "9.777777777777779\n",
      "[ 2.88888889  9.55555556 14.22222222]\n",
      "[10.88888889  8.22222222  8.22222222]\n"
     ]
    }
   ],
   "source": [
    "print(a2)\n",
    "print(np.var(a2))\n",
    "print(np.var(a2,axis = 0))\n",
    "print(np.var(a2,axis = 1))"
   ]
  },
  {
   "cell_type": "code",
   "execution_count": 91,
   "id": "28bb9b59",
   "metadata": {},
   "outputs": [
    {
     "name": "stdout",
     "output_type": "stream",
     "text": [
      "[[2 9 9]\n",
      " [5 8 1]\n",
      " [6 2 9]]\n",
      "1\n",
      "[2 2 1]\n",
      "[2 1 2]\n"
     ]
    }
   ],
   "source": [
    "print(a2)\n",
    "print(np.min(a2))\n",
    "print(np.min(a2,axis = 0))\n",
    "print(np.min(a2,axis = 1))"
   ]
  },
  {
   "cell_type": "code",
   "execution_count": 92,
   "id": "a92bb7be",
   "metadata": {},
   "outputs": [
    {
     "name": "stdout",
     "output_type": "stream",
     "text": [
      "[[2 9 9]\n",
      " [5 8 1]\n",
      " [6 2 9]]\n",
      "9\n",
      "[6 9 9]\n",
      "[9 8 9]\n"
     ]
    }
   ],
   "source": [
    "print(a2)\n",
    "print(np.max(a2))\n",
    "print(np.max(a2,axis = 0))\n",
    "print(np.max(a2,axis = 1))"
   ]
  },
  {
   "cell_type": "code",
   "execution_count": 93,
   "id": "90264a4d",
   "metadata": {},
   "outputs": [
    {
     "name": "stdout",
     "output_type": "stream",
     "text": [
      "[[2 9 9]\n",
      " [5 8 1]\n",
      " [6 2 9]]\n",
      "5\n",
      "[0 2 1]\n",
      "[0 2 1]\n"
     ]
    }
   ],
   "source": [
    "print(a2)\n",
    "print(np.argmin(a2))\n",
    "print(np.argmin(a2,axis = 0))\n",
    "print(np.argmin(a2,axis = 1))"
   ]
  },
  {
   "cell_type": "code",
   "execution_count": 94,
   "id": "089147d8",
   "metadata": {},
   "outputs": [
    {
     "name": "stdout",
     "output_type": "stream",
     "text": [
      "[[2 9 9]\n",
      " [5 8 1]\n",
      " [6 2 9]]\n",
      "1\n",
      "[2 0 0]\n",
      "[1 1 2]\n"
     ]
    }
   ],
   "source": [
    "print(a2)\n",
    "print(np.argmax(a2))\n",
    "print(np.argmax(a2,axis = 0))\n",
    "print(np.argmax(a2,axis = 1))"
   ]
  },
  {
   "cell_type": "code",
   "execution_count": 95,
   "id": "b64b5194",
   "metadata": {},
   "outputs": [
    {
     "name": "stdout",
     "output_type": "stream",
     "text": [
      "[[2 9 9]\n",
      " [5 8 1]\n",
      " [6 2 9]]\n",
      "6.0\n",
      "[5. 8. 9.]\n",
      "[9. 5. 6.]\n"
     ]
    }
   ],
   "source": [
    "print(a2)\n",
    "print(np.median(a2))\n",
    "print(np.median(a2,axis = 0))\n",
    "print(np.median(a2,axis = 1))"
   ]
  },
  {
   "cell_type": "code",
   "execution_count": 96,
   "id": "2b7982c8",
   "metadata": {},
   "outputs": [
    {
     "name": "stdout",
     "output_type": "stream",
     "text": [
      "[0 1 2 3]\n",
      "[0.  0.6 1.2 1.8 2.4 3. ]\n",
      "[0 1 2 2 3 3]\n",
      "[0 0 1 1 2 3]\n",
      "[0 1 1 2 2 3]\n",
      "[0.  0.5 1.5 1.5 2.5 3. ]\n"
     ]
    }
   ],
   "source": [
    "a1 = np.array([0,1,2,3])\n",
    "print(a1)\n",
    "print(np.percentile(a1,[0,20,40,60,80,100],interpolation = 'linear'))\n",
    "print(np.percentile(a1,[0,20,40,60,80,100],interpolation = 'higher'))\n",
    "print(np.percentile(a1,[0,20,40,60,80,100],interpolation = 'lower'))\n",
    "print(np.percentile(a1,[0,20,40,60,80,100],interpolation = 'nearest'))\n",
    "print(np.percentile(a1,[0,20,40,60,80,100],interpolation = 'midpoint'))\n"
   ]
  },
  {
   "cell_type": "code",
   "execution_count": 97,
   "id": "4df4fdba",
   "metadata": {},
   "outputs": [
    {
     "name": "stdout",
     "output_type": "stream",
     "text": [
      "[[False False False]\n",
      " [False  True  True]\n",
      " [False  True  True]]\n",
      "True\n",
      "[False  True  True]\n",
      "[False  True  True]\n"
     ]
    }
   ],
   "source": [
    "a2 = np.array([[False,False,False],\n",
    "              [False,True,True],\n",
    "              [False,True,True]])\n",
    "print(a2)\n",
    "print(np.any(a2))\n",
    "print(np.any(a2,axis = 0))\n",
    "print(np.any(a2,axis = 1))"
   ]
  },
  {
   "cell_type": "code",
   "execution_count": 98,
   "id": "4c017afa",
   "metadata": {},
   "outputs": [
    {
     "name": "stdout",
     "output_type": "stream",
     "text": [
      "[[False False  True]\n",
      " [ True  True  True]\n",
      " [False  True  True]]\n",
      "False\n",
      "[False False  True]\n",
      "[False  True False]\n"
     ]
    }
   ],
   "source": [
    "a2 = np.array([[False,False,True],\n",
    "              [True,True,True],\n",
    "              [False,True,True]])\n",
    "\n",
    "print(a2)\n",
    "print(np.all(a2))\n",
    "print(np.all(a2,axis = 0))\n",
    "print(np.all(a2,axis = 1))"
   ]
  },
  {
   "cell_type": "code",
   "execution_count": 99,
   "id": "ca969383",
   "metadata": {},
   "outputs": [
    {
     "name": "stdout",
     "output_type": "stream",
     "text": [
      "[1 2 3 4 5 6 7 8 9]\n",
      "[False False False False  True False False False False]\n",
      "[ True  True  True  True False  True  True  True  True]\n",
      "[ True  True  True  True False False False False False]\n",
      "[ True  True  True  True  True False False False False]\n",
      "[False False False False False  True  True  True  True]\n",
      "[False False False False  True  True  True  True  True]\n"
     ]
    }
   ],
   "source": [
    "a1 = np.arange(1,10)\n",
    "print(a1)\n",
    "print(a1 == 5)\n",
    "print(a1 != 5)\n",
    "print(a1 < 5)\n",
    "print(a1 <= 5)\n",
    "print(a1 > 5)\n",
    "print(a1 >= 5)"
   ]
  },
  {
   "cell_type": "code",
   "execution_count": 100,
   "id": "5b1801fb",
   "metadata": {},
   "outputs": [
    {
     "name": "stdout",
     "output_type": "stream",
     "text": [
      "[[1 2 3]\n",
      " [4 5 6]\n",
      " [7 8 9]]\n",
      "45\n",
      "4\n",
      "4\n",
      "[1 1 2]\n",
      "[0 1 3]\n",
      "True\n",
      "[ True  True  True]\n",
      "[False  True  True]\n",
      "False\n",
      "[False False False]\n",
      "[False False  True]\n"
     ]
    }
   ],
   "source": [
    "a2 = np.arange(1,10).reshape(3,3)\n",
    "print(a2)\n",
    "print(np.sum(a2))\n",
    "print(np.count_nonzero(a2 > 5))\n",
    "print(np.sum(a2 > 5))\n",
    "print(np.sum(a2 > 5,axis = 0))\n",
    "print(np.sum(a2 > 5,axis = 1))\n",
    "print(np.any(a2 > 5))\n",
    "print(np.any(a2 > 5,axis = 0))\n",
    "print(np.any(a2 > 5,axis = 1))\n",
    "print(np.all(a2 > 5))\n",
    "print(np.all(a2 > 5,axis = 0))\n",
    "print(np.all(a2 > 5,axis = 1))"
   ]
  },
  {
   "cell_type": "code",
   "execution_count": 101,
   "id": "015ee68f",
   "metadata": {},
   "outputs": [
    {
     "name": "stdout",
     "output_type": "stream",
     "text": [
      "[1 2 3 4 5]\n",
      "[ True  True  True False False]\n"
     ]
    }
   ],
   "source": [
    "a1 = np.array([1,2,3,4,5])\n",
    "print(a1)\n",
    "b1 = np.array([1,2,3,3,4])\n",
    "print(np.isclose(a1,b1))"
   ]
  },
  {
   "cell_type": "code",
   "execution_count": 102,
   "id": "675e411c",
   "metadata": {},
   "outputs": [
    {
     "name": "stdout",
     "output_type": "stream",
     "text": [
      "[ nan   2.  inf   4. -inf]\n",
      "[ True False False False False]\n",
      "[False False  True False  True]\n",
      "[False  True False  True False]\n"
     ]
    }
   ],
   "source": [
    "a1 = np.array([np.nan,2,np.inf,4,np.NINF])\n",
    "print(a1)\n",
    "print(np.isnan(a1))\n",
    "print(np.isinf(a1))\n",
    "print(np.isfinite(a1))"
   ]
  },
  {
   "cell_type": "code",
   "execution_count": 103,
   "id": "f012f3ff",
   "metadata": {},
   "outputs": [
    {
     "name": "stdout",
     "output_type": "stream",
     "text": [
      "[[1 2 3]\n",
      " [4 5 6]\n",
      " [7 8 9]]\n",
      "[[False False False]\n",
      " [False False  True]\n",
      " [ True False False]]\n",
      "[6 7]\n",
      "[[ True  True  True]\n",
      " [ True  True  True]\n",
      " [ True  True  True]]\n",
      "[1 2 3 4 5 6 7 8 9]\n",
      "[[ True  True  True]\n",
      " [ True  True False]\n",
      " [False  True  True]]\n",
      "[1 2 3 4 5 8 9]\n",
      "[[ True  True  True]\n",
      " [ True  True False]\n",
      " [False False False]]\n",
      "[1 2 3 4 5]\n"
     ]
    }
   ],
   "source": [
    "a2 = np.arange(1,10).reshape(3,3)\n",
    "print(a2)\n",
    "print((a2 > 5) & (a2 < 8))\n",
    "print(a2[(a2 > 5) & (a2 < 8)])\n",
    "\n",
    "print((a2 > 5) | (a2 < 8))\n",
    "print(a2[(a2 > 5) | (a2 < 8)])\n",
    "\n",
    "print((a2 > 5) ^ (a2 < 8))\n",
    "print(a2[(a2 > 5) ^ (a2 < 8)])\n",
    "\n",
    "print(~(a2 > 5))\n",
    "print(a2[~(a2 > 5)])\n",
    "\n"
   ]
  },
  {
   "cell_type": "code",
   "execution_count": 104,
   "id": "d1820a2d",
   "metadata": {},
   "outputs": [
    {
     "name": "stdout",
     "output_type": "stream",
     "text": [
      "[5 7 2 2 5 9 9 6 8 5]\n",
      "[2 2 5 5 5 6 7 8 9 9]\n",
      "[5 7 2 2 5 9 9 6 8 5]\n",
      "[2 3 0 4 9 7 1 8 5 6]\n",
      "[5 7 2 2 5 9 9 6 8 5]\n",
      "None\n",
      "[2 2 5 5 5 6 7 8 9 9]\n"
     ]
    }
   ],
   "source": [
    "a1 = np.random.randint(1,10,size = 10)\n",
    "print(a1)\n",
    "print(np.sort(a1))\n",
    "print(a1)\n",
    "print(np.argsort(a1))\n",
    "print(a1)\n",
    "print(a1.sort())\n",
    "print(a1)"
   ]
  },
  {
   "cell_type": "code",
   "execution_count": 105,
   "id": "ae93cbb2",
   "metadata": {},
   "outputs": [
    {
     "name": "stdout",
     "output_type": "stream",
     "text": [
      "[[3 7 4]\n",
      " [9 1 6]\n",
      " [8 5 6]]\n",
      "[[3 1 4]\n",
      " [8 5 6]\n",
      " [9 7 6]]\n",
      "[[3 4 7]\n",
      " [1 6 9]\n",
      " [5 6 8]]\n"
     ]
    }
   ],
   "source": [
    "a2 = np.random.randint(1,10,size=(3,3))\n",
    "print(a2)\n",
    "print(np.sort(a2,axis = 0))\n",
    "print(np.sort(a2,axis = 1))"
   ]
  },
  {
   "cell_type": "code",
   "execution_count": 106,
   "id": "cf4dc235",
   "metadata": {},
   "outputs": [
    {
     "name": "stdout",
     "output_type": "stream",
     "text": [
      "[4 8 1 7 8 2 2 4 7 1]\n",
      "[1 1 2 2 4 4 8 7 7 8]\n"
     ]
    }
   ],
   "source": [
    "a1 = np.random.randint(1,10,size = 10)\n",
    "print(a1)\n",
    "print(np.partition(a1,3))"
   ]
  },
  {
   "cell_type": "code",
   "execution_count": 107,
   "id": "a931c724",
   "metadata": {},
   "outputs": [
    {
     "name": "stdout",
     "output_type": "stream",
     "text": [
      "[[5 4 1 5 7]\n",
      " [4 5 4 9 8]\n",
      " [7 6 1 9 5]\n",
      " [4 4 2 3 3]\n",
      " [3 6 3 6 8]]\n",
      "[[4 4 1 3 3]\n",
      " [3 4 1 5 5]\n",
      " [4 5 2 6 7]\n",
      " [5 6 3 9 8]\n",
      " [7 6 4 9 8]]\n",
      "[[4 1 5 5 7]\n",
      " [4 4 5 8 9]\n",
      " [1 5 6 7 9]\n",
      " [3 2 3 4 4]\n",
      " [3 3 6 6 8]]\n"
     ]
    }
   ],
   "source": [
    "a2 = np.random.randint(1,10,size = (5,5))\n",
    "print(a2)\n",
    "print(np.partition(a2,3,axis = 0))\n",
    "print(np.partition(a2,3,axis = 1))"
   ]
  },
  {
   "cell_type": "code",
   "execution_count": 108,
   "id": "7d07701f",
   "metadata": {},
   "outputs": [
    {
     "name": "stdout",
     "output_type": "stream",
     "text": [
      "[[8 2 2 6 7]\n",
      " [7 8 6 6 9]\n",
      " [2 1 1 5 6]\n",
      " [2 3 6 3 3]\n",
      " [7 2 2 4 6]]\n"
     ]
    }
   ],
   "source": [
    "a2 = np.random.randint(1,10,size = (5,5))\n",
    "print(a2)\n",
    "np.save('a',a2)"
   ]
  },
  {
   "cell_type": "code",
   "execution_count": 109,
   "id": "d935b61d",
   "metadata": {},
   "outputs": [
    {
     "name": "stderr",
     "output_type": "stream",
     "text": [
      "'ls'은(는) 내부 또는 외부 명령, 실행할 수 있는 프로그램, 또는\n",
      "배치 파일이 아닙니다.\n"
     ]
    }
   ],
   "source": [
    "!ls"
   ]
  },
  {
   "cell_type": "code",
   "execution_count": 110,
   "id": "191c3419",
   "metadata": {},
   "outputs": [
    {
     "name": "stdout",
     "output_type": "stream",
     "text": [
      "[[5 1 2 4 6]\n",
      " [9 5 1 2 7]\n",
      " [5 6 1 6 8]\n",
      " [4 8 6 4 7]\n",
      " [1 3 7 4 8]]\n"
     ]
    }
   ],
   "source": [
    "b2 = np.random.randint(1,10,size = (5,5))\n",
    "print(b2)\n",
    "np.savez('ab',a2,b2)"
   ]
  },
  {
   "cell_type": "code",
   "execution_count": 111,
   "id": "4f951af2",
   "metadata": {},
   "outputs": [
    {
     "name": "stderr",
     "output_type": "stream",
     "text": [
      "'ls'은(는) 내부 또는 외부 명령, 실행할 수 있는 프로그램, 또는\n",
      "배치 파일이 아닙니다.\n"
     ]
    }
   ],
   "source": [
    "!ls"
   ]
  },
  {
   "cell_type": "code",
   "execution_count": 112,
   "id": "c56dca7f",
   "metadata": {},
   "outputs": [
    {
     "name": "stdout",
     "output_type": "stream",
     "text": [
      "[[8 2 2 6 7]\n",
      " [7 8 6 6 9]\n",
      " [2 1 1 5 6]\n",
      " [2 3 6 3 3]\n",
      " [7 2 2 4 6]]\n"
     ]
    }
   ],
   "source": [
    "npy = np.load('a.npy')\n",
    "print(npy)"
   ]
  },
  {
   "cell_type": "code",
   "execution_count": 113,
   "id": "4c9527dd",
   "metadata": {},
   "outputs": [
    {
     "name": "stdout",
     "output_type": "stream",
     "text": [
      "['arr_0', 'arr_1']\n",
      "[[8 2 2 6 7]\n",
      " [7 8 6 6 9]\n",
      " [2 1 1 5 6]\n",
      " [2 3 6 3 3]\n",
      " [7 2 2 4 6]]\n",
      "[[5 1 2 4 6]\n",
      " [9 5 1 2 7]\n",
      " [5 6 1 6 8]\n",
      " [4 8 6 4 7]\n",
      " [1 3 7 4 8]]\n"
     ]
    }
   ],
   "source": [
    "npz = np.load('ab.npz')\n",
    "print(npz.files)\n",
    "print(npz['arr_0'])\n",
    "print(npz['arr_1'])"
   ]
  },
  {
   "cell_type": "code",
   "execution_count": 114,
   "id": "9dbf2b90",
   "metadata": {},
   "outputs": [
    {
     "name": "stdout",
     "output_type": "stream",
     "text": [
      "[[8 2 2 6 7]\n",
      " [7 8 6 6 9]\n",
      " [2 1 1 5 6]\n",
      " [2 3 6 3 3]\n",
      " [7 2 2 4 6]]\n"
     ]
    }
   ],
   "source": [
    "print(a2)\n",
    "np.savetxt('a.csv',a2,delimiter=',')\n"
   ]
  },
  {
   "cell_type": "code",
   "execution_count": 115,
   "id": "7e5a23c7",
   "metadata": {},
   "outputs": [
    {
     "name": "stderr",
     "output_type": "stream",
     "text": [
      "'ls'은(는) 내부 또는 외부 명령, 실행할 수 있는 프로그램, 또는\n",
      "배치 파일이 아닙니다.\n"
     ]
    }
   ],
   "source": [
    "!ls"
   ]
  },
  {
   "cell_type": "code",
   "execution_count": 116,
   "id": "d0b5781f",
   "metadata": {},
   "outputs": [
    {
     "name": "stderr",
     "output_type": "stream",
     "text": [
      "'cat.a.csv'은(는) 내부 또는 외부 명령, 실행할 수 있는 프로그램, 또는\n",
      "배치 파일이 아닙니다.\n"
     ]
    }
   ],
   "source": [
    "!cat.a.csv"
   ]
  },
  {
   "cell_type": "code",
   "execution_count": 117,
   "id": "82a9ef5f",
   "metadata": {},
   "outputs": [
    {
     "name": "stdout",
     "output_type": "stream",
     "text": [
      "[[8. 2. 2. 6. 7.]\n",
      " [7. 8. 6. 6. 9.]\n",
      " [2. 1. 1. 5. 6.]\n",
      " [2. 3. 6. 3. 3.]\n",
      " [7. 2. 2. 4. 6.]]\n"
     ]
    }
   ],
   "source": [
    "csv = np.loadtxt('a.csv',delimiter=',')\n",
    "print(csv)"
   ]
  },
  {
   "cell_type": "code",
   "execution_count": 118,
   "id": "1b41ed69",
   "metadata": {},
   "outputs": [
    {
     "name": "stdout",
     "output_type": "stream",
     "text": [
      "[[5 1 2 4 6]\n",
      " [9 5 1 2 7]\n",
      " [5 6 1 6 8]\n",
      " [4 8 6 4 7]\n",
      " [1 3 7 4 8]]\n"
     ]
    }
   ],
   "source": [
    "print(b2)\n",
    "np.savetxt('b.csv',b2,delimiter = ',',fmt = '%.2e',header='c1,c2,c3,c4,c5')"
   ]
  },
  {
   "cell_type": "code",
   "execution_count": 119,
   "id": "877ec536",
   "metadata": {},
   "outputs": [
    {
     "name": "stderr",
     "output_type": "stream",
     "text": [
      "'cat.b.csv'은(는) 내부 또는 외부 명령, 실행할 수 있는 프로그램, 또는\n",
      "배치 파일이 아닙니다.\n"
     ]
    }
   ],
   "source": [
    "!cat.b.csv"
   ]
  },
  {
   "cell_type": "code",
   "execution_count": 120,
   "id": "34591978",
   "metadata": {},
   "outputs": [
    {
     "name": "stdout",
     "output_type": "stream",
     "text": [
      "[[5. 1. 2. 4. 6.]\n",
      " [9. 5. 1. 2. 7.]\n",
      " [5. 6. 1. 6. 8.]\n",
      " [4. 8. 6. 4. 7.]\n",
      " [1. 3. 7. 4. 8.]]\n"
     ]
    }
   ],
   "source": [
    "csv = np.loadtxt('b.csv',delimiter = ',')\n",
    "print(csv)"
   ]
  },
  {
   "cell_type": "code",
   "execution_count": null,
   "id": "4456da1b",
   "metadata": {},
   "outputs": [],
   "source": []
  }
 ],
 "metadata": {
  "kernelspec": {
   "display_name": "Python 3 (ipykernel)",
   "language": "python",
   "name": "python3"
  },
  "language_info": {
   "codemirror_mode": {
    "name": "ipython",
    "version": 3
   },
   "file_extension": ".py",
   "mimetype": "text/x-python",
   "name": "python",
   "nbconvert_exporter": "python",
   "pygments_lexer": "ipython3",
   "version": "3.9.7"
  }
 },
 "nbformat": 4,
 "nbformat_minor": 5
}
