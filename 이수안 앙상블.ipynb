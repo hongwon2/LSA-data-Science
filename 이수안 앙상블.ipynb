{
 "cells": [
  {
   "cell_type": "code",
   "execution_count": 4,
   "id": "746069ff",
   "metadata": {},
   "outputs": [],
   "source": [
    "from sklearn.datasets import load_iris,load_wine,load_breast_cancer, load_boston\n",
    "from sklearn.preprocessing import StandardScaler\n",
    "from sklearn.pipeline import make_pipeline\n",
    "from sklearn.model_selection import cross_validate"
   ]
  },
  {
   "cell_type": "code",
   "execution_count": 8,
   "id": "49e488f8",
   "metadata": {
    "scrolled": true
   },
   "outputs": [
    {
     "name": "stdout",
     "output_type": "stream",
     "text": [
      "Requirement already satisfied: SVM in c:\\users\\hongwon\\anaconda3\\lib\\site-packages (0.1.0)\n",
      "Requirement already satisfied: xmltodict in c:\\users\\hongwon\\anaconda3\\lib\\site-packages (from SVM) (0.12.0)\n",
      "Requirement already satisfied: requests in c:\\users\\hongwon\\anaconda3\\lib\\site-packages (from SVM) (2.25.1)\n",
      "Requirement already satisfied: colorama in c:\\users\\hongwon\\anaconda3\\lib\\site-packages (from SVM) (0.4.4)\n",
      "Requirement already satisfied: certifi>=2017.4.17 in c:\\users\\hongwon\\anaconda3\\lib\\site-packages (from requests->SVM) (2020.12.5)\n",
      "Requirement already satisfied: chardet<5,>=3.0.2 in c:\\users\\hongwon\\anaconda3\\lib\\site-packages (from requests->SVM) (4.0.0)\n",
      "Requirement already satisfied: idna<3,>=2.5 in c:\\users\\hongwon\\anaconda3\\lib\\site-packages (from requests->SVM) (2.10)\n",
      "Requirement already satisfied: urllib3<1.27,>=1.21.1 in c:\\users\\hongwon\\anaconda3\\lib\\site-packages (from requests->SVM) (1.26.4)\n"
     ]
    }
   ],
   "source": [
    "from sklearn.ensemble import BaggingClassifier\n",
    "from sklearn.neighbors import KNeighborsClassifier\n",
    "from sklearn.svm import SVC\n",
    "from sklearn.tree import DecisionTreeClassifier"
   ]
  },
  {
   "cell_type": "code",
   "execution_count": 11,
   "id": "3cdbc072",
   "metadata": {},
   "outputs": [],
   "source": [
    "from sklearn.ensemble import BaggingRegressor\n",
    "from sklearn.neighbors import KNeighborsRegressor\n",
    "from sklearn.svm import SVR\n",
    "from sklearn.tree import DecisionTreeRegressor"
   ]
  },
  {
   "cell_type": "code",
   "execution_count": null,
   "id": "8985703e",
   "metadata": {},
   "outputs": [],
   "source": []
  }
 ],
 "metadata": {
  "kernelspec": {
   "display_name": "Python 3",
   "language": "python",
   "name": "python3"
  },
  "language_info": {
   "codemirror_mode": {
    "name": "ipython",
    "version": 3
   },
   "file_extension": ".py",
   "mimetype": "text/x-python",
   "name": "python",
   "nbconvert_exporter": "python",
   "pygments_lexer": "ipython3",
   "version": "3.8.8"
  }
 },
 "nbformat": 4,
 "nbformat_minor": 5
}
