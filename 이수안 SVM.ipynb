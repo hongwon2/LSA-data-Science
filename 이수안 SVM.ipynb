{
 "cells": [
  {
   "cell_type": "code",
   "execution_count": 2,
   "id": "f5a5426d",
   "metadata": {},
   "outputs": [],
   "source": [
    "import multiprocessing\n",
    "import pandas as pd\n",
    "import numpy as np\n",
    "import matplotlib.pyplot as plt\n",
    "plt.style.use (['seaborn-whitegrid'])"
   ]
  },
  {
   "cell_type": "code",
   "execution_count": 6,
   "id": "de6796c5",
   "metadata": {},
   "outputs": [],
   "source": [
    "from sklearn.svm import SVC,SVR\n",
    "from sklearn.datasets import load_boston , load_iris,load_breast_cancer\n",
    "from sklearn.pipeline import make_pipeline,Pipeline\n",
    "from sklearn.model_selection import train_test_split,cross_validate,GridSearchCV\n",
    "from sklearn.preprocessing import StandardScaler,MinMaxScaler\n",
    "from sklearn.manifold import TSNE\n"
   ]
  },
  {
   "cell_type": "code",
   "execution_count": 5,
   "id": "00afe94a",
   "metadata": {},
   "outputs": [
    {
     "name": "stdout",
     "output_type": "stream",
     "text": [
      "학습 데이터 점수 : 0.21772837063748762\n",
      "평가 데이터 점수 : 0.13544178468518187\n"
     ]
    }
   ],
   "source": [
    "X,y = load_boston(return_X_y=True)\n",
    "X_train,X_test,y_train,y_test = train_test_split(X,y,random_state = 123)\n",
    "\n",
    "model = SVR()\n",
    "model.fit(X_train,y_train)\n",
    "\n",
    "print(\"학습 데이터 점수 : {}\".format(model.score(X_train,y_train)))\n",
    "print(\"평가 데이터 점수 : {}\".format(model.score(X_test,y_test)))"
   ]
  },
  {
   "cell_type": "code",
   "execution_count": 7,
   "id": "b874ff59",
   "metadata": {},
   "outputs": [
    {
     "name": "stdout",
     "output_type": "stream",
     "text": [
      "학습 데이터 점수 : 0.9014084507042254\n",
      "평가 데이터 점수 : 0.9230769230769231\n"
     ]
    }
   ],
   "source": [
    "X,y = load_breast_cancer(return_X_y=True)\n",
    "X_train,X_test,y_train,y_test = train_test_split(X,y,random_state = 123)\n",
    "\n",
    "model = SVC()\n",
    "model.fit(X_train,y_train)\n",
    "\n",
    "print(\"학습 데이터 점수 : {}\".format(model.score(X_train,y_train)))\n",
    "print(\"평가 데이터 점수 : {}\".format(model.score(X_test,y_test)))"
   ]
  },
  {
   "cell_type": "code",
   "execution_count": 13,
   "id": "f2006696",
   "metadata": {},
   "outputs": [
    {
     "name": "stdout",
     "output_type": "stream",
     "text": [
      "학습 SVR 데이터 점수 : 0.7155070497093501\n",
      "평가 SVR 데이터 점수 : 0.6380403392498089\n",
      "학습 polynomial_svr 데이터 점수 : 0.20244542614462802\n",
      "평가 polynomial_svr 데이터 점수 : 0.13366845036746056\n",
      "학습 rbf_svr 데이터 점수 : 0.21772837063748762\n",
      "평가 rbf_svr 데이터 점수 : 0.13544178468518187\n"
     ]
    }
   ],
   "source": [
    "X,y = load_boston(return_X_y=True)\n",
    "X_train,X_test,y_train,y_test = train_test_split(X,y,random_state = 123)\n",
    "linear_svr = SVR(kernel = 'linear')\n",
    "linear_svr.fit(X_train,y_train)\n",
    "\n",
    "print(\"학습 SVR 데이터 점수 : {}\".format(linear_svr.score(X_train,y_train)))\n",
    "print(\"평가 SVR 데이터 점수 : {}\".format(linear_svr.score(X_test,y_test)))\n",
    "\n",
    "polynomial_svr = SVR(kernel = 'poly')\n",
    "polynomial_svr.fit(X_train,y_train)\n",
    "\n",
    "print(\"학습 polynomial_svr 데이터 점수 : {}\".format(polynomial_svr.score(X_train,y_train)))\n",
    "print(\"평가 polynomial_svr 데이터 점수 : {}\".format(polynomial_svr.score(X_test,y_test)))\n",
    "\n",
    "rbf_svr = SVR(kernel = 'rbf')\n",
    "rbf_svr.fit(X_train,y_train)\n",
    "\n",
    "print(\"학습 rbf_svr 데이터 점수 : {}\".format(rbf_svr.score(X_train,y_train)))\n",
    "print(\"평가 rbf_svr 데이터 점수 : {}\".format(rbf_svr.score(X_test,y_test)))\n",
    "\n",
    "\n"
   ]
  },
  {
   "cell_type": "code",
   "execution_count": 16,
   "id": "ae1647ef",
   "metadata": {
    "scrolled": true
   },
   "outputs": [
    {
     "name": "stdout",
     "output_type": "stream",
     "text": [
      "학습 SVC 데이터 점수 : 0.960093896713615\n",
      "평가 SVC 데이터 점수 : 0.986013986013986\n",
      "학습 polynomial_svc 데이터 점수 : 0.9014084507042254\n",
      "평가 polynomial_svc 데이터 점수 : 0.9230769230769231\n",
      "학습 rbf_svc 데이터 점수 : 0.9014084507042254\n",
      "평가 rbf_svc 데이터 점수 : 0.9230769230769231\n"
     ]
    }
   ],
   "source": [
    "X,y = load_breast_cancer(return_X_y=True)\n",
    "X_train,X_test,y_train,y_test = train_test_split(X,y,random_state = 123)\n",
    "linear_svc = SVC(kernel = 'linear')\n",
    "linear_svc.fit(X_train,y_train)\n",
    "\n",
    "print(\"학습 SVC 데이터 점수 : {}\".format(linear_svc.score(X_train,y_train)))\n",
    "print(\"평가 SVC 데이터 점수 : {}\".format(linear_svc.score(X_test,y_test)))\n",
    "\n",
    "polynomial_svc = SVC(kernel = 'poly')\n",
    "polynomial_svc.fit(X_train,y_train)\n",
    "\n",
    "print(\"학습 polynomial_svc 데이터 점수 : {}\".format(polynomial_svc.score(X_train,y_train)))\n",
    "print(\"평가 polynomial_svc 데이터 점수 : {}\".format(polynomial_svc.score(X_test,y_test)))\n",
    "\n",
    "rbf_svc = SVC(kernel = 'rbf')\n",
    "rbf_svc.fit(X_train,y_train)\n",
    "\n",
    "print(\"학습 rbf_svc 데이터 점수 : {}\".format(rbf_svc.score(X_train,y_train)))\n",
    "print(\"평가 rbf_svc 데이터 점수 : {}\".format(rbf_svc.score(X_test,y_test)))"
   ]
  },
  {
   "cell_type": "code",
   "execution_count": 17,
   "id": "5f0ced76",
   "metadata": {},
   "outputs": [
    {
     "name": "stdout",
     "output_type": "stream",
     "text": [
      "kernel = poly,degree=2,ganna=0.1\n",
      "학습 polynomial_svc 데이터 점수 : 0.9835680751173709\n",
      "평가 polynomial_svc 데이터 점수 : 0.993006993006993\n"
     ]
    }
   ],
   "source": [
    "X,y = load_breast_cancer(return_X_y=True)\n",
    "X_train,X_test,y_train,y_test = train_test_split(X,y,random_state = 123)\n",
    "\n",
    "polynomial_svc = SVC(kernel = 'poly',degree = 2,C=0.1,gamma = 'auto')\n",
    "polynomial_svc.fit(X_train,y_train)\n",
    "\n",
    "print('kernel = poly,degree={},ganna={}'.format(2,0.1,'auto'))\n",
    "print(\"학습 polynomial_svc 데이터 점수 : {}\".format(polynomial_svc.score(X_train,y_train)))\n",
    "print(\"평가 polynomial_svc 데이터 점수 : {}\".format(polynomial_svc.score(X_test,y_test)))"
   ]
  }
 ],
 "metadata": {
  "kernelspec": {
   "display_name": "Python 3",
   "language": "python",
   "name": "python3"
  },
  "language_info": {
   "codemirror_mode": {
    "name": "ipython",
    "version": 3
   },
   "file_extension": ".py",
   "mimetype": "text/x-python",
   "name": "python",
   "nbconvert_exporter": "python",
   "pygments_lexer": "ipython3",
   "version": "3.8.8"
  }
 },
 "nbformat": 4,
 "nbformat_minor": 5
}
